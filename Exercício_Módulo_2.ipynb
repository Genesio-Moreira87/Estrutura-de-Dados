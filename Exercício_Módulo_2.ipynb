{
  "nbformat": 4,
  "nbformat_minor": 0,
  "metadata": {
    "colab": {
      "provenance": [],
      "toc_visible": true
    },
    "kernelspec": {
      "name": "python3",
      "display_name": "Python 3"
    }
  },
  "cells": [
    {
      "cell_type": "markdown",
      "metadata": {
        "id": "KJqp9AANOCtf"
      },
      "source": [
        "<img src=\"https://raw.githubusercontent.com/andre-marcos-perez/ebac-course-utils/main/media/logo/newebac_logo_black_half.png\" alt=\"ebac-logo\">\n",
        "\n",
        "---\n",
        "\n",
        "# **Módulo** | Python: Estruturas de Dados\n",
        "Caderno de **Exercícios**<br>\n",
        "Professor [André Perez](https://www.linkedin.com/in/andremarcosperez/)\n",
        "\n",
        "---"
      ]
    },
    {
      "cell_type": "markdown",
      "metadata": {
        "id": "d9jDtUbDOE1-"
      },
      "source": [
        "# **Tópicos**\n",
        "\n",
        "<ol type=\"1\">\n",
        "  <li>Listas;</li>\n",
        "  <li>Conjuntos;</li>\n",
        "  <li>Dicionários.</li>\n",
        "</ol>"
      ]
    },
    {
      "cell_type": "markdown",
      "metadata": {
        "id": "SmoHgt-lwkpD"
      },
      "source": [
        "---"
      ]
    },
    {
      "cell_type": "markdown",
      "metadata": {
        "id": "GABI6OW8OfQ2"
      },
      "source": [
        "# **Exercícios**"
      ]
    },
    {
      "cell_type": "markdown",
      "metadata": {
        "id": "muD1vxozykSC"
      },
      "source": [
        "## 1\\. Listas"
      ]
    },
    {
      "cell_type": "markdown",
      "metadata": {
        "id": "ahrFfCuBxJKs"
      },
      "source": [
        "Criei uma lista chamada `filmes` com o nome dos 10 primeiros filmes mais bem avaliados no site no [IMDB](https://www.imdb.com/chart/top/). Imprima o resultado."
      ]
    },
    {
      "cell_type": "code",
      "metadata": {
        "id": "OgL6Hv3bzOHI",
        "colab": {
          "base_uri": "https://localhost:8080/"
        },
        "outputId": "3a12378f-38a6-4f63-8e37-3f672152c5ad"
      },
      "source": [
        "#Adicionando os 10 filmes mais bem avaliado IMDB, na lista filmes\n",
        "filmes = ['Os Condenados de Shawshank', 'O Padrinho', 'O Cavaleiro das Trevas', 'A Lista de Schindler', 'O Senhor dos Anéis - O Regresso do Rei',\n",
        "          'O Padrinho: Parte II', 'Doze Homens em Fúria', ' Pulp Fiction', 'O Senhor dos Anéis - A Irmandade do Anel',\n",
        "          'O Bom, o Mau e o Vilão']\n",
        "print(filmes)\n",
        "print(type(filmes))\n",
        "\n",
        "#Fim"
      ],
      "execution_count": null,
      "outputs": [
        {
          "output_type": "stream",
          "name": "stdout",
          "text": [
            "['Os Condenados de Shawshank', 'O Padrinho', 'O Cavaleiro das Trevas', 'A Lista de Schindler', 'O Senhor dos Anéis - O Regresso do Rei', 'O Padrinho: Parte II', 'Doze Homens em Fúria', ' Pulp Fiction', 'O Senhor dos Anéis - A Irmandade do Anel', 'O Bom, o Mau e o Vilão']\n",
            "<class 'list'>\n"
          ]
        }
      ]
    },
    {
      "cell_type": "markdown",
      "metadata": {
        "id": "KI9zQRT2xa7m"
      },
      "source": [
        "Simule a movimentação do *ranking*. Utilize os métodos `insert` e `pop` para trocar a posição do primeiro e do segundo filme da lista. Imprima o resultado.\n",
        "\n"
      ]
    },
    {
      "cell_type": "code",
      "metadata": {
        "id": "zX3mA3_GzrXH",
        "colab": {
          "base_uri": "https://localhost:8080/"
        },
        "outputId": "85e89bb7-88b9-416d-8427-bbce9e092ee1"
      },
      "source": [
        "# inserir um elemento sem substituir posição 0 e 1 na lista: list.insert(index, val)\n",
        "print('Nome do Filme Posição 0 ---> '+filmes[0])\n",
        "filmes.insert(0, 'Primeiro Nome')\n",
        "print ('Inserido o Filmme ---> '+filmes[0])\n",
        "\n",
        "print('Nome do Filme Posição 1 --->: '+filmes[1])\n",
        "filmes.insert(1,'Segundo Nome')\n",
        "print ('Inserido o Filmme ---> ' +filmes[1])\n",
        "\n",
        "# Imprimindo os Valores da lista\n",
        "print('Nome dos Filmes ---> ')\n",
        "print(filmes)\n",
        "\n",
        "# remover um elemento pelo índice 0 e 1: list.pop(val)\n",
        "filmes_removido = filmes.pop(0)\n",
        "print('Removido o Filme ---> '+filmes_removido)\n",
        "\n",
        "filmes_removido = filmes.pop(1)\n",
        "print('Removido o Filme ---> '+filmes_removido)\n",
        "\n",
        "#Fim Exercicio 1"
      ],
      "execution_count": null,
      "outputs": [
        {
          "output_type": "stream",
          "name": "stdout",
          "text": [
            "Nome do Filme Posição 0 ---> Os Condenados de Shawshank\n",
            "Inserido o Filmme ---> Primeiro Nome\n",
            "Nome do Filme Posição 1 --->: Os Condenados de Shawshank\n",
            "Inserido o Filmme ---> Segundo Nome\n",
            "Nome dos Filmes ---> \n",
            "['Primeiro Nome', 'Segundo Nome', 'Os Condenados de Shawshank', 'O Padrinho', 'O Cavaleiro das Trevas', 'A Lista de Schindler', 'O Senhor dos Anéis - O Regresso do Rei', 'O Padrinho: Parte II', 'Doze Homens em Fúria', ' Pulp Fiction', 'O Senhor dos Anéis - A Irmandade do Anel', 'O Bom, o Mau e o Vilão']\n",
            "Removido o Filme ---> Primeiro Nome\n",
            "Removido o Filme ---> Os Condenados de Shawshank\n"
          ]
        }
      ]
    },
    {
      "cell_type": "markdown",
      "metadata": {
        "id": "zMN1Q3jdwoJm"
      },
      "source": [
        "---"
      ]
    },
    {
      "cell_type": "markdown",
      "metadata": {
        "id": "lxa5L6uF0ZJE"
      },
      "source": [
        "## 2\\. Conjuntos"
      ]
    },
    {
      "cell_type": "markdown",
      "metadata": {
        "id": "9JahS2Kj0d5u"
      },
      "source": [
        "Aconteceu um erro no seu *ranking*. Simule a duplicação dos três últimos filmes da lista. Imprima o resultado."
      ]
    },
    {
      "cell_type": "code",
      "metadata": {
        "id": "BnjnLBNC6PGe",
        "colab": {
          "base_uri": "https://localhost:8080/"
        },
        "outputId": "ee2fd6c4-f227-4a65-c4ed-6a2c59792e26"
      },
      "source": [
        "# Simulando a duplicação dos três últimos filmes da lista. Imprimindo o resultado.\n",
        "filmes = ['Os Condenados de Shawshank', 'O Padrinho', 'O Cavaleiro das Trevas', 'A Lista de Schindler', 'O Senhor dos Anéis - O Regresso do Rei',\n",
        "          'O Padrinho: Parte II', 'Doze Homens em Fúria', ' Pulp Fiction', 'O Senhor dos Anéis - A Irmandade do Anel',\n",
        "          'O Bom, o Mau e o Vilão', ' Pulp Fiction','O Senhor dos Anéis - A Irmandade do Anel','O Bom, o Mau e o Vilão' ]\n",
        "print(filmes)\n",
        "print(type(filmes))\n",
        "\n",
        "#Fim"
      ],
      "execution_count": null,
      "outputs": [
        {
          "output_type": "stream",
          "name": "stdout",
          "text": [
            "['Os Condenados de Shawshank', 'O Padrinho', 'O Cavaleiro das Trevas', 'A Lista de Schindler', 'O Senhor dos Anéis - O Regresso do Rei', 'O Padrinho: Parte II', 'Doze Homens em Fúria', ' Pulp Fiction', 'O Senhor dos Anéis - A Irmandade do Anel', 'O Bom, o Mau e o Vilão', ' Pulp Fiction', 'O Senhor dos Anéis - A Irmandade do Anel', 'O Bom, o Mau e o Vilão']\n",
            "<class 'list'>\n"
          ]
        }
      ]
    },
    {
      "cell_type": "markdown",
      "metadata": {
        "id": "suxTfCJB6ZiX"
      },
      "source": [
        "Utiliza a conversão `set` e `list` para remover os valores duplicados. Imprima o resultado."
      ]
    },
    {
      "cell_type": "code",
      "metadata": {
        "id": "ZvUGN-0n6joM",
        "colab": {
          "base_uri": "https://localhost:8080/"
        },
        "outputId": "6ebf1801-ff2e-44ac-df0c-cb99b9c1b4b8"
      },
      "source": [
        "# Utilizando o set e list para remover os valores duplicados. Imprimindo o resultado.\n",
        "print('Lista de Filmes Duplicados ---> ')\n",
        "print(filmes)\n",
        "\n",
        "# Utilizando o list e o set para remover os valores duplicados da lista e imprimindo o resultado\n",
        "filmes_nao_duplicados = list(set(filmes))\n",
        "print('Lista de Filmes Não Duplicados ---> ')\n",
        "print(filmes_nao_duplicados)\n",
        "\n",
        "#Fim Exercicio 2"
      ],
      "execution_count": null,
      "outputs": [
        {
          "output_type": "stream",
          "name": "stdout",
          "text": [
            "Lista de Filmes Duplicados ---> \n",
            "['Os Condenados de Shawshank', 'O Padrinho', 'O Cavaleiro das Trevas', 'A Lista de Schindler', 'O Senhor dos Anéis - O Regresso do Rei', 'O Padrinho: Parte II', 'Doze Homens em Fúria', ' Pulp Fiction', 'O Senhor dos Anéis - A Irmandade do Anel', 'O Bom, o Mau e o Vilão', ' Pulp Fiction', 'O Senhor dos Anéis - A Irmandade do Anel', 'O Bom, o Mau e o Vilão']\n",
            "Lista de Filmes Não Duplicados ---> \n",
            "['O Cavaleiro das Trevas', 'A Lista de Schindler', 'O Bom, o Mau e o Vilão', 'O Padrinho: Parte II', ' Pulp Fiction', 'Doze Homens em Fúria', 'O Senhor dos Anéis - O Regresso do Rei', 'Os Condenados de Shawshank', 'O Padrinho', 'O Senhor dos Anéis - A Irmandade do Anel']\n"
          ]
        }
      ]
    },
    {
      "cell_type": "markdown",
      "metadata": {
        "id": "ShkK35eQ6pAM"
      },
      "source": [
        "---"
      ]
    },
    {
      "cell_type": "markdown",
      "metadata": {
        "id": "EL_FzmxL6rTv"
      },
      "source": [
        "## 3\\. Dicionários"
      ]
    },
    {
      "cell_type": "markdown",
      "metadata": {
        "id": "i8l0gFqRCpfT"
      },
      "source": [
        "Repita os exercícios da parte 1 (listas). Os elementos da lista `filmes` devem ser dicionários no seguinte formato: `{'nome': <nome-do-filme>, 'ano': <ano do filme>, 'sinopse': <sinopse do filme>}`."
      ]
    },
    {
      "cell_type": "code",
      "metadata": {
        "id": "tu6MSFwGDnHv",
        "colab": {
          "base_uri": "https://localhost:8080/"
        },
        "outputId": "9b414b4c-cb24-4e9b-ae5c-b2906b62a2d2"
      },
      "source": [
        "#Inserindo os elementos no dicionário\n",
        "filmes = {\n",
        "    'nome': 'Os Condenados de Shawshank',\n",
        "    'ano': 1994,\n",
        "    'sinopse': 'Over the course of several years, two convicts form a friendship, seeking consolation and, eventually, redemption through basic compassion.',\n",
        "    }\n",
        "print(filmes)\n",
        "\n",
        "filmes = {\n",
        "    'nome': 'O Padrinho',\n",
        "    'ano': 1972,\n",
        "    'sinopse': 'Don Vito Corleone, head of a mafia family, decides to hand over his empire to his youngest son Michael. However, his decision unintentionally puts the lives of his loved ones in grave danger.'\n",
        "    }\n",
        "print(filmes)\n",
        "\n",
        "filmes = {\n",
        "    'nome': 'O Cavaleiro das Trevas',\n",
        "    'ano': 2008,\n",
        "    'sinopse': 'When the menace known as the Joker wreaks havoc and chaos on the people of Gotham, Batman must accept one of the greatest psychological and physical tests of his ability to fight injustice.'\n",
        "    }\n",
        "print(filmes)\n",
        "\n",
        "filmes = {\n",
        "    'nome': 'O Padrinho: Parte II',\n",
        "    'ano': 1974,\n",
        "    'sinopse': 'The early life and career of Vito Corleone in 1920s New York City is portrayed, while his son, Michael, expands and tightens his grip on the family crime syndicate.'\n",
        "    }\n",
        "print(filmes)\n",
        "\n",
        "filmes = {\n",
        "    'nome': 'Doze Homens em Fúria',\n",
        "    'ano': 1957,\n",
        "    'sinopse': 'The jury in a New York City murder trial is frustrated by a single member whose skeptical caution forces them to more carefully consider the evidence before jumping to a hasty verdict.'\n",
        "    }\n",
        "print(filmes)\n",
        "\n",
        "filmes = {\n",
        "    'nome': 'A Lista de Schindler',\n",
        "    'ano': 1993,\n",
        "    'sinopse': 'In German-occupied Poland during World War II, industrialist Oskar Schindler gradually becomes concerned for his Jewish workforce after witnessing their persecution by the Nazis.'\n",
        "    }\n",
        "print(filmes)\n",
        "\n",
        "filmes = {\n",
        "    'nome': 'O Senhor dos Anéis - O Regresso do Rei',\n",
        "    'ano': 2003,\n",
        "    'sinopse': 'Gandalf and Aragorn lead the World of Men against Saurons army to draw his gaze from Frodo and Sam as they approach Mount Doom with the One Ring.'\n",
        "    }\n",
        "print(filmes)\n",
        "\n",
        "\n",
        "filmes = {\n",
        "    'nome': 'Pulp Fiction',\n",
        "    'ano': 1994,\n",
        "    'sinopse': 'The lives of two mob hitmen, a boxer, a gangster and his wife, and a pair of diner bandits intertwine in four tales of violence and redemption.'\n",
        "    }\n",
        "print(filmes)\n",
        "\n",
        "\n",
        "filmes = {\n",
        "    'nome': 'O Senhor dos Anéis - A Irmandade do Anel',\n",
        "    'ano': 2001,\n",
        "    'sinopse': 'A meek Hobbit from the Shire and eight companions set out on a journey to destroy the powerful One Ring and save Middle-earth from the Dark Lord Sauron.'\n",
        "    }\n",
        "print(filmes)\n",
        "\n",
        "filmes = {\n",
        "    'nome': 'O Bom, o Mau e o Vilão',\n",
        "    'ano': 1996,\n",
        "    'sinopse': 'A bounty hunting scam joins two men in an uneasy alliance against a third in a race to find a fortune in gold buried in a remote cemetery.'\n",
        "    }\n",
        "print(filmes)\n",
        "\n",
        "#Fim exercicio 3"
      ],
      "execution_count": null,
      "outputs": [
        {
          "output_type": "stream",
          "name": "stdout",
          "text": [
            "{'nome': 'Os Condenados de Shawshank', 'ano': 1994, 'sinopse': 'Over the course of several years, two convicts form a friendship, seeking consolation and, eventually, redemption through basic compassion.'}\n",
            "{'nome': 'O Padrinho', 'ano': 1972, 'sinopse': 'Don Vito Corleone, head of a mafia family, decides to hand over his empire to his youngest son Michael. However, his decision unintentionally puts the lives of his loved ones in grave danger.'}\n",
            "{'nome': 'O Cavaleiro das Trevas', 'ano': 2008, 'sinopse': 'When the menace known as the Joker wreaks havoc and chaos on the people of Gotham, Batman must accept one of the greatest psychological and physical tests of his ability to fight injustice.'}\n",
            "{'nome': 'O Padrinho: Parte II', 'ano': 1974, 'sinopse': 'The early life and career of Vito Corleone in 1920s New York City is portrayed, while his son, Michael, expands and tightens his grip on the family crime syndicate.'}\n",
            "{'nome': 'Doze Homens em Fúria', 'ano': 1957, 'sinopse': 'The jury in a New York City murder trial is frustrated by a single member whose skeptical caution forces them to more carefully consider the evidence before jumping to a hasty verdict.'}\n",
            "{'nome': 'A Lista de Schindler', 'ano': 1993, 'sinopse': 'In German-occupied Poland during World War II, industrialist Oskar Schindler gradually becomes concerned for his Jewish workforce after witnessing their persecution by the Nazis.'}\n",
            "{'nome': 'O Senhor dos Anéis - O Regresso do Rei', 'ano': 2003, 'sinopse': 'Gandalf and Aragorn lead the World of Men against Saurons army to draw his gaze from Frodo and Sam as they approach Mount Doom with the One Ring.'}\n",
            "{'nome': 'Pulp Fiction', 'ano': 1994, 'sinopse': 'The lives of two mob hitmen, a boxer, a gangster and his wife, and a pair of diner bandits intertwine in four tales of violence and redemption.'}\n",
            "{'nome': 'O Senhor dos Anéis - A Irmandade do Anel', 'ano': 2001, 'sinopse': 'A meek Hobbit from the Shire and eight companions set out on a journey to destroy the powerful One Ring and save Middle-earth from the Dark Lord Sauron.'}\n",
            "{'nome': 'O Bom, o Mau e o Vilão', 'ano': 1996, 'sinopse': 'A bounty hunting scam joins two men in an uneasy alliance against a third in a race to find a fortune in gold buried in a remote cemetery.'}\n"
          ]
        }
      ]
    }
  ]
}